{
 "cells": [
  {
   "cell_type": "markdown",
   "metadata": {},
   "source": [
    "# Deep learning\n",
    "\n",
    "Deep learning refers to highly multi-layer neural networks that have lots of parameters. Training them can be slow, so be prepared to wait if you have a low-end PC. \n",
    "\n",
    "Let's have a look at some popular frameworks for deep learning. The most popular is [tensorflow](https://www.tensorflow.org/), that allows one to create complex computing graphs in Python, while the actual heavy lifting is done by underlying C++ implementations. While tensorflow itself is really powerful, we'll be having a look at [keras](https://keras.io/), an abstraction on top of tensorflow that lets you define neural network in an easy manner.\n",
    "\n",
    "If you're new to Jupyter notebooks, you can run a cell by clicking on it and pressing `ctrl` + `enter`. The variables, functions etc in previous cells will remain in memory, so you can refer to them later in other cells.\n",
    "\n",
    "This exercise has some ready-made code and you should implement the parts where is says #TODO. Feel free to create your own functions or classes as well."
   ]
  },
  {
   "cell_type": "markdown",
   "metadata": {},
   "source": [
    "**First things first, download the [HASYv2](https://zenodo.org/record/259444#.WcZjIZ8xDCI) dataset into the same folder as this notebook, and extract it.**"
   ]
  },
  {
   "cell_type": "code",
   "execution_count": 1,
   "metadata": {
    "collapsed": true
   },
   "outputs": [],
   "source": [
    "# Python2 compatibility\n",
    "from __future__ import print_function\n",
    "\n",
    "import numpy as np\n",
    "import pandas as pd"
   ]
  },
  {
   "cell_type": "markdown",
   "metadata": {},
   "source": [
    "\n",
    "Implement a function that reads the HASYv2 dataset from the given folder. It should return a tuple containing two numpy arrays: the data as a `(68233, 32, 32)` tensor, and a size `168233` vector containing the labels (\"symbol_id\") as integers.\n",
    "Hint. Use scipy's imread to read the `.png` images as black-and-white. Each image should be a 32x32 matrix."
   ]
  },
  {
   "cell_type": "code",
   "execution_count": null,
   "metadata": {
    "collapsed": true
   },
   "outputs": [],
   "source": [
    "from scipy.misc import imread\n",
    "\n",
    "# TODO \n",
    "def read_data(folder):\n",
    "    pass\n",
    "\n",
    "X, y = read_data(\"HASYv2/\")\n",
    "\n",
    "print(X.shape, y.shape) # Should be (168233, 32, 32) (168233,)"
   ]
  },
  {
   "cell_type": "markdown",
   "metadata": {},
   "source": [
    "Overfitting is when we fit the model to work well on our training data, but . Fitting a model to predict the training set perfectly is in most cases trivial, and is a simple exercise in [optimization](https://en.wikipedia.org/wiki/Mathematical_optimization). In machine learning, however, we are interested in _generalization error_, or in other words, how well our model works on previously unseen data. Therefore, we want to evaluate the performance of our model on data that it has not yet seen: this is a way to approximate how well it generalizes. \n",
    "\n",
    "As a reminder from last week, tuning the hyperparameters of your model or choosing your model based on the test data **overfits to the test data**. We don't want this, so we use a so-called _validation set_ to tune our model.\n",
    "\n",
    "To do this, **split the data into training, validation and test sets. Be sure to shuffle it first, otherwise your validation and test sets will not contain most labels**. Your function should return a tuple containing the training, validation and test data, i.e `(X_train, y_train, X_val, y_val, X_test, y_test)`. You can use e.g the proportions `0.8, 0.1, 0.1`."
   ]
  },
  {
   "cell_type": "code",
   "execution_count": null,
   "metadata": {
    "collapsed": true
   },
   "outputs": [],
   "source": [
    "# TODO\n",
    "def split_data(X, y):\n",
    "    pass\n",
    "    \n",
    "X_train, y_train, X_val, y_val, X_test, y_test = split_data(X, y)\n",
    "\n",
    "print(X_train.shape, y_train.shape) # Should yield approx (134586, 32, 32) (134586,)"
   ]
  },
  {
   "cell_type": "markdown",
   "metadata": {},
   "source": [
    "Since there's 369 different classes with overall over 150000 images, let's reduce the complexity of our task by taking only the 100 first classes. Also note that the `symbol_id` field does not start from 0, but instead has arbitrary numbers. \n",
    "\n",
    "**Transform the labels so that the numbering for the class goes from 0 to 99, and discard the rest of the classes and corresponding images.**"
   ]
  },
  {
   "cell_type": "code",
   "execution_count": null,
   "metadata": {
    "collapsed": true
   },
   "outputs": [],
   "source": [
    "# Give new ids to classes such that the first unique symbol_id gets the number 0,\n",
    "# the next unique symbol_id gets the number 1, and so forth\n",
    "# TODO\n",
    "def transform_labels(y):\n",
    "    pass\n",
    "\n",
    "y_train, y_val, y_test = map(transform_labels, [y_train, y_val, y_test])\n",
    "\n",
    "print(y_train.shape, y_val.shape, y_test.shape) # Should be approx (134586,) (16823,) (16824,)\n",
    "\n",
    "# Should return the elements in arr for which their corresponding label in y_arr is in between [0, 100]\n",
    "# TODO\n",
    "def filter_out(arr, y_arr):\n",
    "    pass\n",
    "\n",
    "X_train, y_train = filter_out(X_train, y_train)\n",
    "X_val, y_val = filter_out(X_val, y_val)\n",
    "X_test, y_test = filter_out(X_test, y_test)\n",
    "\n",
    "print(y_train.shape, X_train.shape) # Should be approx (34062,) (34062, 32, 32)"
   ]
  },
  {
   "cell_type": "markdown",
   "metadata": {},
   "source": [
    "Currently our labels are single integers that represent the class. However, for neural networks it's common to switch them to a so-called \"one-hot\" encoding, where each label is represented by a vector of length number of classes that has a one at the position  zeros everywhere else. \n",
    "\n",
    "For example, if there were 7 classes, we could represent that class 5 as `0000100`. In the case of the HASYv2 dataset, there's 369 unique classes, but we only picked the first 100, so each label should be a length 100 vector with a single one.\n",
    "\n",
    "_Hint_ `keras` has a function for this"
   ]
  },
  {
   "cell_type": "code",
   "execution_count": null,
   "metadata": {
    "collapsed": true
   },
   "outputs": [],
   "source": [
    "# Convert labels to one-hot encoding here\n",
    "# TODO \n",
    "from keras.utils import to_categorical\n",
    "\n",
    "print(y_train.shape) # Should be approx (34062, 100)"
   ]
  },
  {
   "cell_type": "markdown",
   "metadata": {},
   "source": [
    "Next let's create a simple linear model using Keras to get ourselves familiar with it. Your model should consist of a `Flatten` layer that takes as input `(32, 32)` matrices and outputs a `1024` vector. Then, you should have a second `Dense` layer that has as many outputs as there are classes in the data (i.e 100), and has a \"softmax\" activation. Check out the [30 seconds to Keras](https://keras.io) intro for an introduction to the framework. If you're stuck, check the next blocks for some of the same ingredients."
   ]
  },
  {
   "cell_type": "code",
   "execution_count": null,
   "metadata": {
    "collapsed": true
   },
   "outputs": [],
   "source": [
    "from keras.models import Sequential\n",
    "from keras.layers import Dense, Flatten\n",
    "\n",
    "# This function should return a keras Sequential model that has the appropriate layers\n",
    "# TODO\n",
    "def create_linear_model():\n",
    "    pass\n",
    "\n",
    "model = create_linear_model()\n",
    "model.summary()"
   ]
  },
  {
   "cell_type": "markdown",
   "metadata": {},
   "source": [
    "Here we \"compile\" the model, specifying the loss function to use as well as the method for minimizing the loss function. In addition, we request that Keras provide us with constant accuracy measures. We also feed in the validation data, which means that Keras will evaluate the validation loss for us after each epoch (epoch generally means once it has seen each training sample once).  "
   ]
  },
  {
   "cell_type": "code",
   "execution_count": null,
   "metadata": {
    "collapsed": true
   },
   "outputs": [],
   "source": [
    "# Feel free to try out other optimizers. Categorical crossentropy loss means \n",
    "# we are predicting the probability of each class separately.\n",
    "model.compile(loss=\"categorical_crossentropy\", optimizer=\"rmsprop\", metrics=[\"accuracy\"])\n",
    "\n",
    "model.fit(X_train, y_train, epochs=3, batch_size=64)"
   ]
  },
  {
   "cell_type": "markdown",
   "metadata": {},
   "source": [
    "The simple linear model probably didn't do too well. Let's create a CNN (Convolutional Neural Network) next. We've provided the code for the network, so just run these cells for now. Try to experiment here, adding and removing layers and tuning the hyperparameters to get better results on the validation data."
   ]
  },
  {
   "cell_type": "code",
   "execution_count": null,
   "metadata": {
    "collapsed": true
   },
   "outputs": [],
   "source": [
    "from keras.models import Sequential\n",
    "from keras.layers import Dense, Flatten, Conv2D, MaxPooling2D, BatchNormalization, Dropout\n",
    "from keras.backend import clear_session\n",
    "\n",
    "def create_convolutional_model():\n",
    "    model = Sequential()\n",
    "    \n",
    "    model.add(Conv2D(128, (3, 3), input_shape=(32, 32, 1))) # A convolutional layer\n",
    "    model.add(MaxPooling2D((4,4))) # Max pooling reduces the complexity of the model\n",
    "    model.add(Dropout(0.4)) # Randomly dropping connections within the network helps against overfitting\n",
    "    model.add(Conv2D(128, (2, 2), activation=\"relu\")) \n",
    "    model.add(BatchNormalization()) # Numbers within the network might get really big, so normalize them \n",
    "    model.add(Flatten())\n",
    "    model.add(Dense(256, activation=\"relu\"))\n",
    "    model.add(Dense(128, activation=\"relu\"))\n",
    "    model.add(BatchNormalization())\n",
    "    model.add(Dense(y_train.shape[1], activation=\"softmax\"))\n",
    "    \n",
    "    return model\n",
    "\n",
    "clear_session()\n",
    "\n",
    "model = create_convolutional_model()\n",
    "model.summary() # Get a summary of all the layers"
   ]
  },
  {
   "cell_type": "markdown",
   "metadata": {},
   "source": [
    "As you can see, our model has a lot of parameters. Optimizing this might take a while, depending on your PC."
   ]
  },
  {
   "cell_type": "code",
   "execution_count": null,
   "metadata": {
    "collapsed": true
   },
   "outputs": [],
   "source": [
    "# Feel free to try out other optimizers. Categorical crossentropy loss means \n",
    "# we are predicting the probability of each class separately.\n",
    "model.compile(loss=\"categorical_crossentropy\", optimizer=\"rmsprop\", metrics=[\"accuracy\"])\n",
    "\n",
    "# Extra axis for \"gray\" channel\n",
    "model.fit(X_train[:, :, :, np.newaxis], y_train, epochs=5, batch_size=64, validation_data=(X_val[:, :, :, np.newaxis], y_val))"
   ]
  },
  {
   "cell_type": "markdown",
   "metadata": {},
   "source": [
    "Finally, let's see how well our model did on the held-out test data. This is basically what matters, after all. The second number should be test accuracy - you should be able to get approx 80% with our setup. Try to improve this, but be careful not to overfit on the test data. Always use the validation set to tune your model."
   ]
  },
  {
   "cell_type": "code",
   "execution_count": null,
   "metadata": {
    "collapsed": true
   },
   "outputs": [],
   "source": [
    "model.evaluate(X_test[:, :, :, np.newaxis], y_test)"
   ]
  },
  {
   "cell_type": "code",
   "execution_count": null,
   "metadata": {
    "collapsed": true
   },
   "outputs": [],
   "source": [
    "#TODO make the model better"
   ]
  }
 ],
 "metadata": {
  "kernelspec": {
   "display_name": "Python 3",
   "language": "python",
   "name": "python3"
  },
  "language_info": {
   "codemirror_mode": {
    "name": "ipython",
    "version": 3
   },
   "file_extension": ".py",
   "mimetype": "text/x-python",
   "name": "python",
   "nbconvert_exporter": "python",
   "pygments_lexer": "ipython3",
   "version": "3.6.1"
  }
 },
 "nbformat": 4,
 "nbformat_minor": 2
}
